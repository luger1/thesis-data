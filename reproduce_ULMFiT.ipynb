{
  "nbformat": 4,
  "nbformat_minor": 0,
  "metadata": {
    "colab": {
      "name": "REP_ULMFiT.ipynb",
      "version": "0.3.2",
      "provenance": [],
      "collapsed_sections": []
    },
    "kernelspec": {
      "name": "python3",
      "display_name": "Python 3"
    },
    "accelerator": "GPU"
  },
  "cells": [
    {
      "metadata": {
        "id": "P7r_LTmoQew7",
        "colab_type": "text"
      },
      "cell_type": "markdown",
      "source": [
        "## ULMFiT with SentencePiece to classify the [Ten Thousand German News Articles Dataset](https://github.com/tblock/10kGNAD)\n",
        "This Notebook contains the code to reproduce the results in my thesis.\n",
        "\n",
        "Run all cells consecutively.\n",
        "\n",
        "The scripts are based on the [ulmfit-multilingual](https://github.com/n-waves/ulmfit-multilingual) repository.\n",
        "\n",
        "---\n",
        "#### ULMFiT needs the Colab GPU-runtime to run: \n",
        "1. Goto `Runtime`\n",
        "2. Select `Change runtime type` \n",
        "3. Choose `Hardware Accelerator: ` `GPU`\n",
        "---\n",
        "\n",
        "\n",
        "\n"
      ]
    },
    {
      "metadata": {
        "id": "KpTuACQsRpbJ",
        "colab_type": "text"
      },
      "cell_type": "markdown",
      "source": [
        "### Enviroment Setup "
      ]
    },
    {
      "metadata": {
        "id": "793XP-IB5IWb",
        "colab_type": "code",
        "colab": {}
      },
      "cell_type": "code",
      "source": [
        "# install required python modules\n",
        "!pip install --quiet fastai==1.0.39 fire sacremoses sentencepiece"
      ],
      "execution_count": 0,
      "outputs": []
    },
    {
      "metadata": {
        "id": "xRO3A3Rs9AjQ",
        "colab_type": "code",
        "outputId": "f0ff831f-bcb8-47ed-aaef-fad0d98333a0",
        "colab": {
          "base_uri": "https://localhost:8080/",
          "height": 53
        }
      },
      "cell_type": "code",
      "source": [
        "# load the dataset and generate subsets\n",
        "!rm -rf 10kGNAD lowshot data\n",
        "!git config --global advice.detachedHead false\n",
        "!git clone -q --branch v1.1 https://github.com/tblock/10kGNAD.git && echo \"downloaded dataset\"\n",
        "!mkdir lowshot\n",
        "!mkdir data\n",
        "!cp 10kGNAD/test.csv data/\n",
        "!cp 10kGNAD/train.csv data/\n",
        "!cat data/train.csv data/test.csv > data/unsup.csv\n",
        "!cp 10kGNAD/train.csv .\n",
        "!python 10kGNAD/code/generate_lowshot_sets.py > /dev/null && echo \"generated train subsets\""
      ],
      "execution_count": 2,
      "outputs": [
        {
          "output_type": "stream",
          "text": [
            "downloaded dataset\n",
            "generated train subsets\n"
          ],
          "name": "stdout"
        }
      ]
    },
    {
      "metadata": {
        "id": "vJGTftDMvuHp",
        "colab_type": "code",
        "colab": {}
      },
      "cell_type": "code",
      "source": [
        "# download ULMFiT weights\n",
        "!mkdir -p data/models/sp60k/lstm_e5.m\n",
        "!wget -q https://github.com/tblock/thesis-data/releases/download/0.0.1/enc_best.pth \n",
        "!mv enc_best.pth data/models/sp60k/lstm_e5.m"
      ],
      "execution_count": 0,
      "outputs": []
    },
    {
      "metadata": {
        "id": "NKq4pfWWv8_B",
        "colab_type": "code",
        "outputId": "2a8f9a38-ba98-4b0e-da8f-074ceba2953f",
        "colab": {
          "base_uri": "https://localhost:8080/",
          "height": 35
        }
      },
      "cell_type": "code",
      "source": [
        "# fetching scripts \n",
        "!rm -rf thesis-data\n",
        "!git clone -q https://github.com/tblock/thesis-data.git && echo \"downloaded scripts\"\n",
        "!cp thesis-data/scripts/ulmfit/ulmfit . -r\n",
        "!cp thesis-data/scripts/ulmfit/fastai_contrib . -r\n",
        "!cp thesis-data/ulmfit-data/* .\n",
        "!mv info.json data/"
      ],
      "execution_count": 4,
      "outputs": [
        {
          "output_type": "stream",
          "text": [
            "downloaded scripts\n"
          ],
          "name": "stdout"
        }
      ]
    },
    {
      "metadata": {
        "id": "-NVkRop4TWvK",
        "colab_type": "text"
      },
      "cell_type": "markdown",
      "source": [
        "### Train Models\n",
        "\n",
        "This might train for multiple hours.\n",
        "\n",
        "One option to speed up the training would be to increase the batchsize, however this would yield sighly different results.\n"
      ]
    },
    {
      "metadata": {
        "id": "LqIh1Gr88hKG",
        "colab_type": "code",
        "colab": {
          "base_uri": "https://localhost:8080/",
          "height": 935
        },
        "outputId": "638b5991-774f-413c-a3d9-1c5ebce2c147"
      },
      "cell_type": "code",
      "source": [
        "!sh thesis-data/scripts/ulmfit/lowshot.sh"
      ],
      "execution_count": 5,
      "outputs": [
        {
          "output_type": "stream",
          "text": [
            "lowshot/lowshot_0_0.01_0.csv\n",
            "### 37.35\n",
            "lowshot/lowshot_0_0.01_1.csv\n",
            "### 32.98\n",
            "lowshot/lowshot_0_0.01_2.csv\n",
            "### 32.59\n",
            "lowshot/lowshot_0_0.01_3.csv\n",
            "### 31.23\n",
            "lowshot/lowshot_0_0.01_4.csv\n",
            "### 31.91\n",
            "lowshot/lowshot_0_0.01_5.csv\n",
            "### 38.42\n",
            "lowshot/lowshot_0_0.01_6.csv\n",
            "### 31.42\n",
            "lowshot/lowshot_0_0.01_7.csv\n",
            "...\n"
          ],
          "name": "stdout"
        }
      ]
    }
  ]
}
