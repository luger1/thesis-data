{
  "nbformat": 4,
  "nbformat_minor": 0,
  "metadata": {
    "colab": {
      "name": "REP_fastText.ipynb",
      "version": "0.3.2",
      "provenance": [],
      "toc_visible": true
    },
    "kernelspec": {
      "name": "python3",
      "display_name": "Python 3"
    }
  },
  "cells": [
    {
      "metadata": {
        "id": "-6dW5zYskkvN",
        "colab_type": "text"
      },
      "cell_type": "markdown",
      "source": [
        "## fastText with word embeddings to classify the [Ten Thousand German News Articles Dataset](https://github.com/tblock/10kGNAD)\n",
        "This Notebook contains the code to reproduce the results in my thesis.\n",
        "\n",
        "Run all cells consecutively."
      ]
    },
    {
      "metadata": {
        "id": "UJjMGiwUV7Mi",
        "colab_type": "text"
      },
      "cell_type": "markdown",
      "source": [
        "### Setup Enviroment"
      ]
    },
    {
      "metadata": {
        "id": "7wpZXuplkzfl",
        "colab_type": "text"
      },
      "cell_type": "markdown",
      "source": [
        "#### Clone and build fastText"
      ]
    },
    {
      "metadata": {
        "id": "hyiepauWdpGI",
        "colab_type": "code",
        "outputId": "583c67de-0e23-48f7-f561-031e40b4d4d6",
        "colab": {
          "base_uri": "https://localhost:8080/",
          "height": 53
        }
      },
      "cell_type": "code",
      "source": [
        "# download and build fastText\n",
        "!rm -rf fastText-0.2.0 v0.2.0.zip\n",
        "!wget -q https://github.com/facebookresearch/fastText/archive/v0.2.0.zip && echo \"fastText cloned\"\n",
        "!unzip -q v0.2.0.zip\n",
        "!cd fastText-0.2.0 && make -s CXXFLAGS='-pthread -std=c++0x -march=native -O3 -funroll-loops -Wno-deprecated-declarations' && echo \"fastText build\""
      ],
      "execution_count": 1,
      "outputs": [
        {
          "output_type": "stream",
          "text": [
            "fastText cloned\n",
            "fastText build\n"
          ],
          "name": "stdout"
        }
      ]
    },
    {
      "metadata": {
        "id": "1ihdnOxUk49K",
        "colab_type": "text"
      },
      "cell_type": "markdown",
      "source": [
        "#### Download dataset and pretrained wordvetors"
      ]
    },
    {
      "metadata": {
        "id": "OSicYUelhbLx",
        "colab_type": "code",
        "outputId": "4405d237-e950-4eba-b562-a043ef43cb92",
        "colab": {
          "base_uri": "https://localhost:8080/",
          "height": 53
        }
      },
      "cell_type": "code",
      "source": [
        "# load the dataset and generate subsets\n",
        "!rm -rf 10kGNAD lowshot\n",
        "!git config --global advice.detachedHead false\n",
        "!git clone -q --branch v1.1 https://github.com/tblock/10kGNAD.git && echo \"downloaded dataset\"\n",
        "!mkdir lowshot\n",
        "!cp 10kGNAD/train.csv .\n",
        "!python 10kGNAD/code/generate_lowshot_sets.py -fastText > /dev/null && echo \"generated train subsets\""
      ],
      "execution_count": 2,
      "outputs": [
        {
          "output_type": "stream",
          "text": [
            "downloaded dataset\n",
            "generated train subsets\n"
          ],
          "name": "stdout"
        }
      ]
    },
    {
      "metadata": {
        "id": "QZLKBbjBoyYF",
        "colab_type": "code",
        "outputId": "e5a74160-7db5-468b-ce7f-2caa606d4ccd",
        "colab": {
          "base_uri": "https://localhost:8080/",
          "height": 235
        }
      },
      "cell_type": "code",
      "source": [
        "# download the pretrained wordvectors (4.8GB, could take some time)\n",
        "!wget https://dl.fbaipublicfiles.com/fasttext/vectors-aligned/wiki.de.align.vec"
      ],
      "execution_count": 3,
      "outputs": [
        {
          "output_type": "stream",
          "text": [
            "--2019-02-26 12:21:35--  https://dl.fbaipublicfiles.com/fasttext/vectors-aligned/wiki.de.align.vec\n",
            "Resolving dl.fbaipublicfiles.com (dl.fbaipublicfiles.com)... 104.20.6.166, 104.20.22.166, 2606:4700:10::6814:16a6, ...\n",
            "Connecting to dl.fbaipublicfiles.com (dl.fbaipublicfiles.com)|104.20.6.166|:443... connected.\n",
            "HTTP request sent, awaiting response... 200 OK\n",
            "Length: 5147085911 (4.8G) [binary/octet-stream]\n",
            "Saving to: ‘wiki.de.align.vec.1’\n",
            "\n",
            "wiki.de.align.vec.1 100%[===================>]   4.79G  40.5MB/s    in 2m 15s  \n",
            "\n",
            "2019-02-26 12:23:50 (36.5 MB/s) - ‘wiki.de.align.vec.1’ saved [5147085911/5147085911]\n",
            "\n"
          ],
          "name": "stdout"
        }
      ]
    },
    {
      "metadata": {
        "id": "s9w-XQUbpfOG",
        "colab_type": "code",
        "colab": {}
      },
      "cell_type": "code",
      "source": [
        "# create a ram-fs to speed up file loading and model writing\n",
        "!mkdir -p ramfs\n",
        "#!mount -t tmpfs none ramfs\n",
        "!mv wiki.de.align.vec ramfs"
      ],
      "execution_count": 0,
      "outputs": []
    },
    {
      "metadata": {
        "id": "KouSq4O9VzqY",
        "colab_type": "code",
        "colab": {
          "base_uri": "https://localhost:8080/",
          "height": 35
        },
        "outputId": "7c4a4991-09d6-49bf-fb99-4cc033ef44b0"
      },
      "cell_type": "code",
      "source": [
        "# fetching scripts \n",
        "!rm -rf thesis-data\n",
        "!git clone -q https://github.com/tblock/thesis-data.git && echo \"downloaded scripts\"\n",
        "!cp thesis-data/scripts/fastText/* . -r\n",
        "!cp thesis-data/fastText-data/fastText_test.csv ."
      ],
      "execution_count": 5,
      "outputs": [
        {
          "output_type": "stream",
          "text": [
            "downloaded scripts\n"
          ],
          "name": "stdout"
        }
      ]
    },
    {
      "metadata": {
        "id": "rFVcQuploD5U",
        "colab_type": "text"
      },
      "cell_type": "markdown",
      "source": [
        "### Train Models\n"
      ]
    },
    {
      "metadata": {
        "id": "iavNGJtTqvvL",
        "colab_type": "code",
        "colab": {
          "base_uri": "https://localhost:8080/",
          "height": 667
        },
        "outputId": "c5f20d2c-e2a8-42ad-8b64-ef7895bf8dd9"
      },
      "cell_type": "code",
      "source": [
        "!sh run_fastText.sh"
      ],
      "execution_count": 6,
      "outputs": [
        {
          "output_type": "stream",
          "text": [
            "./lowshot/lowshot_0_0.01_0.csv\n",
            "\rRead 0M words\n",
            "Number of words:  11615\n",
            "Number of labels: 9\n",
            "Progress: 100.0% words/sec/thread:  353363 lr:  0.000000 loss:  0.028223 ETA:   0h 0m\n",
            "./lowshot/lowshot_0_0.01_1.csv\n",
            "Read 0M words\n",
            "Number of words:  11663\n",
            "Number of labels: 9\n",
            "Progress: 100.0% words/sec/thread:  330922 lr:  0.000000 loss:  0.025121 ETA:   0h 0m\n",
            "58.17\n",
            "./lowshot/lowshot_0_0.01_2.csv\n",
            "Read 0M words\n",
            "Number of words:  11558\n",
            "Number of labels: 9\n",
            "Progress: 100.0% words/sec/thread:  334692 lr:  0.000000 loss:  0.025787 ETA:   0h 0m\n",
            "57.39\n",
            "./lowshot/lowshot_0_0.01_3.csv\n",
            "...\n"
          ],
          "name": "stdout"
        }
      ]
    }
  ]
}
